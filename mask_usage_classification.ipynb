{
 "cells": [
  {
   "cell_type": "code",
   "execution_count": 3,
   "id": "7eeb1e9b",
   "metadata": {},
   "outputs": [],
   "source": [
    "import os\n",
    "import numpy as np\n",
    "import pandas as pd\n",
    "from sklearn.model_selection import cross_val_score\n",
    "# from sklearn.model_selection import train_test_split\n",
    "\n",
    "\n",
    "# Checks if feature data has been created locally\n",
    "if not os.path.exists(\"mask_data.csv\"):\n",
    "    import featurize\n",
    "    \n",
    "data = np.array(pd.read_csv('mask_data.csv', sep=',',header=None))\n",
    "X, Y = np.split(data, [-1], axis=1)\n",
    "Y = Y.flatten()\n",
    "\n",
    "# X_train, X_test, y_train, y_test = train_test_split(X, Y, test_size=0.1, random_state=0)"
   ]
  },
  {
   "cell_type": "code",
   "execution_count": 28,
   "id": "bf5c3d35",
   "metadata": {},
   "outputs": [],
   "source": [
    "from sklearn import svm\n",
    "\n",
    "def svm_experiment(kernel : str, C : int, k : int, degree=3):\n",
    "    \"\"\"\n",
    "    Sample code for SVM svc from https://scikit-learn.org/stable/modules/cross_validation.html\n",
    "    \n",
    "    Helper function to run k-fold cross validation on a SVM with a specified kernel.\n",
    "    Returns the trained classifier.\n",
    "    \"\"\"\n",
    "    clf = svm.SVC(kernel=kernel, C=C, random_state=0, degree=degree)\n",
    "    scores = cross_val_score(clf, X, Y, cv=k)\n",
    "    print(\"%0.2f accuracy with a standard deviation of %0.2f\" % (scores.mean(), scores.std()))\n",
    "    return clf"
   ]
  },
  {
   "cell_type": "code",
   "execution_count": 5,
   "id": "a9440c5a",
   "metadata": {},
   "outputs": [
    {
     "name": "stdout",
     "output_type": "stream",
     "text": [
      "0.86 accuracy with a standard deviation of 0.01\n"
     ]
    }
   ],
   "source": [
    "linear_svm_model = svm_experiment(\"linear\", 1, 5)"
   ]
  },
  {
   "cell_type": "code",
   "execution_count": 31,
   "id": "428fd7d5",
   "metadata": {
    "scrolled": true
   },
   "outputs": [
    {
     "name": "stdout",
     "output_type": "stream",
     "text": [
      "0.92 accuracy with a standard deviation of 0.01\n"
     ]
    }
   ],
   "source": [
    "gaussian_svm_model = svm_experiment(\"rbf\", 1, 5)"
   ]
  },
  {
   "cell_type": "code",
   "execution_count": 29,
   "id": "76efe709",
   "metadata": {},
   "outputs": [
    {
     "name": "stdout",
     "output_type": "stream",
     "text": [
      "0.89 accuracy with a standard deviation of 0.01\n"
     ]
    }
   ],
   "source": [
    "cubic_svm_model = svm_experiment(\"poly\", 1, 5, 5)"
   ]
  },
  {
   "cell_type": "code",
   "execution_count": 42,
   "id": "5de68503",
   "metadata": {},
   "outputs": [],
   "source": [
    "import xgboost as xgb\n",
    "\n",
    "def xgb_experiment(rounds : int, k : int, param : dict):\n",
    "    \"\"\" \n",
    "    Sample code for xgboost from:\n",
    "    https://xgboost.readthedocs.io/en/latest/python/examples/cross_validation.html\n",
    "    \"\"\"\n",
    "    dtrain = xgb.DMatrix(X, label=Y)\n",
    "\n",
    "    return xgb.cv(param, dtrain, rounds, nfold=k,\n",
    "           metrics={'merror'}, early_stopping_rounds=10, seed=0,\n",
    "           callbacks=[xgb.callback.EvaluationMonitor(show_stdv=True)])"
   ]
  },
  {
   "cell_type": "code",
   "execution_count": null,
   "id": "2426aeeb",
   "metadata": {},
   "outputs": [
    {
     "name": "stdout",
     "output_type": "stream",
     "text": [
      "[0]\ttrain-merror:0.12109+0.00384\ttest-merror:0.18441+0.00992\n",
      "[1]\ttrain-merror:0.07197+0.00645\ttest-merror:0.16659+0.01258\n",
      "[2]\ttrain-merror:0.04089+0.00466\ttest-merror:0.14998+0.01087\n",
      "[3]\ttrain-merror:0.02458+0.00783\ttest-merror:0.14393+0.01742\n",
      "[4]\ttrain-merror:0.01310+0.00778\ttest-merror:0.13261+0.01353\n",
      "[5]\ttrain-merror:0.01106+0.01501\ttest-merror:0.13246+0.02385\n",
      "[6]\ttrain-merror:0.01182+0.02086\ttest-merror:0.12657+0.02318\n",
      "[7]\ttrain-merror:0.01816+0.03585\ttest-merror:0.12763+0.03098\n"
     ]
    }
   ],
   "source": [
    "param = {\n",
    "    'max_depth':5, \n",
    "    'min_child_weight':1, \n",
    "    'gamma':0,\n",
    "    'eta':2, \n",
    "    'num_class':4,\n",
    "    'subsample':0.8,\n",
    "    'colsample_bytree':0.8,\n",
    "}\n",
    "\n",
    "xgb_experiment(10, 5, param)"
   ]
  },
  {
   "cell_type": "code",
   "execution_count": null,
   "id": "3714b48c",
   "metadata": {},
   "outputs": [],
   "source": []
  }
 ],
 "metadata": {
  "kernelspec": {
   "display_name": "Python 3 (ipykernel)",
   "language": "python",
   "name": "python3"
  },
  "language_info": {
   "codemirror_mode": {
    "name": "ipython",
    "version": 3
   },
   "file_extension": ".py",
   "mimetype": "text/x-python",
   "name": "python",
   "nbconvert_exporter": "python",
   "pygments_lexer": "ipython3",
   "version": "3.9.4"
  }
 },
 "nbformat": 4,
 "nbformat_minor": 5
}
