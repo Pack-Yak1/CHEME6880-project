{
 "cells": [
  {
   "cell_type": "code",
   "execution_count": 4,
   "id": "f28ec7b3",
   "metadata": {},
   "outputs": [],
   "source": [
    "import os\n",
    "import numpy as np\n",
    "import pandas as pd\n",
    "\n",
    "# Checks if feature data has been created locally\n",
    "if not os.path.exists(\"mask_data.csv\"):\n",
    "    import featurize"
   ]
  },
  {
   "cell_type": "code",
   "execution_count": null,
   "id": "9a6d79d7",
   "metadata": {},
   "outputs": [],
   "source": [
    "DATA_PATH"
   ]
  }
 ],
 "metadata": {
  "kernelspec": {
   "display_name": "Python 3 (ipykernel)",
   "language": "python",
   "name": "python3"
  },
  "language_info": {
   "codemirror_mode": {
    "name": "ipython",
    "version": 3
   },
   "file_extension": ".py",
   "mimetype": "text/x-python",
   "name": "python",
   "nbconvert_exporter": "python",
   "pygments_lexer": "ipython3",
   "version": "3.9.4"
  }
 },
 "nbformat": 4,
 "nbformat_minor": 5
}
